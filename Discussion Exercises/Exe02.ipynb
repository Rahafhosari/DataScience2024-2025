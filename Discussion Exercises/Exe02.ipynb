{
 "cells": [
  {
   "cell_type": "markdown",
   "metadata": {},
   "source": [
    " \n",
    "# Exercise using Kaggle\n",
    "Navigate Kaggle and choose a dataset that contains at least 5 features and contains both numerical and categorical features\n",
    "Upload the dataset file to colab\n",
    "Use Pandas to read the file\n",
    "How many numerical column? How many categorical columns\n",
    "Show descriptive statistics for the data and decide which mesaure is more appropriate to represent the center of the data\n",
    "For every categorical column, calculate the count for each category (value_counts())\n",
    "Apply groupby on the dataset using columns you think they could be interesting for the decision maker\n",
    " \n"
   ]
  },
  {
   "cell_type": "code",
   "execution_count": null,
   "metadata": {},
   "outputs": [],
   "source": []
  }
 ],
 "metadata": {
  "language_info": {
   "name": "python"
  }
 },
 "nbformat": 4,
 "nbformat_minor": 2
}
