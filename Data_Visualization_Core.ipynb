{
  "nbformat": 4,
  "nbformat_minor": 0,
  "metadata": {
    "colab": {
      "provenance": [],
      "include_colab_link": true
    },
    "kernelspec": {
      "name": "python3",
      "display_name": "Python 3"
    },
    "language_info": {
      "name": "python"
    }
  },
  "cells": [
    {
      "cell_type": "markdown",
      "metadata": {
        "id": "view-in-github",
        "colab_type": "text"
      },
      "source": [
        "<a href=\"https://colab.research.google.com/github/Rahafhosari/DataScience2024-2025/blob/master/Data_Visualization_Core.ipynb\" target=\"_parent\"><img src=\"https://colab.research.google.com/assets/colab-badge.svg\" alt=\"Open In Colab\"/></a>"
      ]
    },
    {
      "cell_type": "markdown",
      "source": [
        "# Data Visualization Core [Starter Notebook]"
      ],
      "metadata": {
        "id": "CUqtRAjE8IVE"
      }
    },
    {
      "cell_type": "markdown",
      "source": [
        "- Student Name: Rahaf Hosari"
      ],
      "metadata": {
        "id": "OnV5uZnrdAR0"
      }
    },
    {
      "cell_type": "markdown",
      "source": [
        "## Import Packages and Load Data"
      ],
      "metadata": {
        "id": "EITzaBcfrLmk"
      }
    },
    {
      "cell_type": "code",
      "source": [
        "# import the required packages\n",
        "import pandas as pd\n",
        "import numpy as np\n",
        "import matplotlib.pyplot as plt\n",
        "import seaborn as sns"
      ],
      "metadata": {
        "id": "IjGYpFle8vaY"
      },
      "execution_count": 3,
      "outputs": []
    },
    {
      "cell_type": "code",
      "source": [
        "# mount google drive\n",
        "from google.colab import drive\n",
        "drive.mount('/content/drive')"
      ],
      "metadata": {
        "id": "HEcj6_yu-6UC",
        "colab": {
          "base_uri": "https://localhost:8080/"
        },
        "outputId": "4436706b-e101-472f-8cb6-28cf9b3340eb"
      },
      "execution_count": 1,
      "outputs": [
        {
          "output_type": "stream",
          "name": "stdout",
          "text": [
            "Mounted at /content/drive\n"
          ]
        }
      ]
    },
    {
      "cell_type": "code",
      "source": [
        "## Save the filepath to the data as a variable \"fpath\"\n",
        "fpath = '/content/drive/MyDrive/AXSOSACADEMY/01-Fundamentals/Week04/Data/insurance_mod.csv'"
      ],
      "metadata": {
        "id": "RNRLbRzC-5mo"
      },
      "execution_count": 4,
      "outputs": []
    },
    {
      "cell_type": "code",
      "source": [
        "# Read in the file and disply the info and head\n",
        "df = pd.read_csv(fpath)\n",
        "df.info()"
      ],
      "metadata": {
        "id": "9cPeODRE9DoL",
        "colab": {
          "base_uri": "https://localhost:8080/"
        },
        "outputId": "76b5abd7-2bc7-438b-e958-ec6d58ff8d01"
      },
      "execution_count": 5,
      "outputs": [
        {
          "output_type": "stream",
          "name": "stdout",
          "text": [
            "<class 'pandas.core.frame.DataFrame'>\n",
            "RangeIndex: 1338 entries, 0 to 1337\n",
            "Data columns (total 7 columns):\n",
            " #   Column    Non-Null Count  Dtype  \n",
            "---  ------    --------------  -----  \n",
            " 0   age       1338 non-null   int64  \n",
            " 1   sex       1338 non-null   object \n",
            " 2   bmi       1338 non-null   float64\n",
            " 3   children  1338 non-null   int64  \n",
            " 4   smoker    1338 non-null   int64  \n",
            " 5   region    1338 non-null   object \n",
            " 6   charges   1338 non-null   float64\n",
            "dtypes: float64(2), int64(3), object(2)\n",
            "memory usage: 73.3+ KB\n"
          ]
        }
      ]
    },
    {
      "cell_type": "code",
      "source": [
        "df.head()"
      ],
      "metadata": {
        "colab": {
          "base_uri": "https://localhost:8080/",
          "height": 206
        },
        "id": "vP07II52wczm",
        "outputId": "a382731f-1c62-4510-b1f0-9a43fe347c92"
      },
      "execution_count": 6,
      "outputs": [
        {
          "output_type": "execute_result",
          "data": {
            "text/plain": [
              "   age     sex     bmi  children  smoker     region  charges\n",
              "0   19  female  27.900         0       1  southwest  16885.0\n",
              "1   18    male  33.770         1       0  southeast   1726.0\n",
              "2   28    male  33.000         3       0  southeast   4449.0\n",
              "3   33    male  22.705         0       0  northwest  21984.0\n",
              "4   32    male  28.880         0       0  northwest   3867.0"
            ],
            "text/html": [
              "\n",
              "  <div id=\"df-faf54886-685c-4cf2-a45a-59a18ffe81f2\" class=\"colab-df-container\">\n",
              "    <div>\n",
              "<style scoped>\n",
              "    .dataframe tbody tr th:only-of-type {\n",
              "        vertical-align: middle;\n",
              "    }\n",
              "\n",
              "    .dataframe tbody tr th {\n",
              "        vertical-align: top;\n",
              "    }\n",
              "\n",
              "    .dataframe thead th {\n",
              "        text-align: right;\n",
              "    }\n",
              "</style>\n",
              "<table border=\"1\" class=\"dataframe\">\n",
              "  <thead>\n",
              "    <tr style=\"text-align: right;\">\n",
              "      <th></th>\n",
              "      <th>age</th>\n",
              "      <th>sex</th>\n",
              "      <th>bmi</th>\n",
              "      <th>children</th>\n",
              "      <th>smoker</th>\n",
              "      <th>region</th>\n",
              "      <th>charges</th>\n",
              "    </tr>\n",
              "  </thead>\n",
              "  <tbody>\n",
              "    <tr>\n",
              "      <th>0</th>\n",
              "      <td>19</td>\n",
              "      <td>female</td>\n",
              "      <td>27.900</td>\n",
              "      <td>0</td>\n",
              "      <td>1</td>\n",
              "      <td>southwest</td>\n",
              "      <td>16885.0</td>\n",
              "    </tr>\n",
              "    <tr>\n",
              "      <th>1</th>\n",
              "      <td>18</td>\n",
              "      <td>male</td>\n",
              "      <td>33.770</td>\n",
              "      <td>1</td>\n",
              "      <td>0</td>\n",
              "      <td>southeast</td>\n",
              "      <td>1726.0</td>\n",
              "    </tr>\n",
              "    <tr>\n",
              "      <th>2</th>\n",
              "      <td>28</td>\n",
              "      <td>male</td>\n",
              "      <td>33.000</td>\n",
              "      <td>3</td>\n",
              "      <td>0</td>\n",
              "      <td>southeast</td>\n",
              "      <td>4449.0</td>\n",
              "    </tr>\n",
              "    <tr>\n",
              "      <th>3</th>\n",
              "      <td>33</td>\n",
              "      <td>male</td>\n",
              "      <td>22.705</td>\n",
              "      <td>0</td>\n",
              "      <td>0</td>\n",
              "      <td>northwest</td>\n",
              "      <td>21984.0</td>\n",
              "    </tr>\n",
              "    <tr>\n",
              "      <th>4</th>\n",
              "      <td>32</td>\n",
              "      <td>male</td>\n",
              "      <td>28.880</td>\n",
              "      <td>0</td>\n",
              "      <td>0</td>\n",
              "      <td>northwest</td>\n",
              "      <td>3867.0</td>\n",
              "    </tr>\n",
              "  </tbody>\n",
              "</table>\n",
              "</div>\n",
              "    <div class=\"colab-df-buttons\">\n",
              "\n",
              "  <div class=\"colab-df-container\">\n",
              "    <button class=\"colab-df-convert\" onclick=\"convertToInteractive('df-faf54886-685c-4cf2-a45a-59a18ffe81f2')\"\n",
              "            title=\"Convert this dataframe to an interactive table.\"\n",
              "            style=\"display:none;\">\n",
              "\n",
              "  <svg xmlns=\"http://www.w3.org/2000/svg\" height=\"24px\" viewBox=\"0 -960 960 960\">\n",
              "    <path d=\"M120-120v-720h720v720H120Zm60-500h600v-160H180v160Zm220 220h160v-160H400v160Zm0 220h160v-160H400v160ZM180-400h160v-160H180v160Zm440 0h160v-160H620v160ZM180-180h160v-160H180v160Zm440 0h160v-160H620v160Z\"/>\n",
              "  </svg>\n",
              "    </button>\n",
              "\n",
              "  <style>\n",
              "    .colab-df-container {\n",
              "      display:flex;\n",
              "      gap: 12px;\n",
              "    }\n",
              "\n",
              "    .colab-df-convert {\n",
              "      background-color: #E8F0FE;\n",
              "      border: none;\n",
              "      border-radius: 50%;\n",
              "      cursor: pointer;\n",
              "      display: none;\n",
              "      fill: #1967D2;\n",
              "      height: 32px;\n",
              "      padding: 0 0 0 0;\n",
              "      width: 32px;\n",
              "    }\n",
              "\n",
              "    .colab-df-convert:hover {\n",
              "      background-color: #E2EBFA;\n",
              "      box-shadow: 0px 1px 2px rgba(60, 64, 67, 0.3), 0px 1px 3px 1px rgba(60, 64, 67, 0.15);\n",
              "      fill: #174EA6;\n",
              "    }\n",
              "\n",
              "    .colab-df-buttons div {\n",
              "      margin-bottom: 4px;\n",
              "    }\n",
              "\n",
              "    [theme=dark] .colab-df-convert {\n",
              "      background-color: #3B4455;\n",
              "      fill: #D2E3FC;\n",
              "    }\n",
              "\n",
              "    [theme=dark] .colab-df-convert:hover {\n",
              "      background-color: #434B5C;\n",
              "      box-shadow: 0px 1px 3px 1px rgba(0, 0, 0, 0.15);\n",
              "      filter: drop-shadow(0px 1px 2px rgba(0, 0, 0, 0.3));\n",
              "      fill: #FFFFFF;\n",
              "    }\n",
              "  </style>\n",
              "\n",
              "    <script>\n",
              "      const buttonEl =\n",
              "        document.querySelector('#df-faf54886-685c-4cf2-a45a-59a18ffe81f2 button.colab-df-convert');\n",
              "      buttonEl.style.display =\n",
              "        google.colab.kernel.accessAllowed ? 'block' : 'none';\n",
              "\n",
              "      async function convertToInteractive(key) {\n",
              "        const element = document.querySelector('#df-faf54886-685c-4cf2-a45a-59a18ffe81f2');\n",
              "        const dataTable =\n",
              "          await google.colab.kernel.invokeFunction('convertToInteractive',\n",
              "                                                    [key], {});\n",
              "        if (!dataTable) return;\n",
              "\n",
              "        const docLinkHtml = 'Like what you see? Visit the ' +\n",
              "          '<a target=\"_blank\" href=https://colab.research.google.com/notebooks/data_table.ipynb>data table notebook</a>'\n",
              "          + ' to learn more about interactive tables.';\n",
              "        element.innerHTML = '';\n",
              "        dataTable['output_type'] = 'display_data';\n",
              "        await google.colab.output.renderOutput(dataTable, element);\n",
              "        const docLink = document.createElement('div');\n",
              "        docLink.innerHTML = docLinkHtml;\n",
              "        element.appendChild(docLink);\n",
              "      }\n",
              "    </script>\n",
              "  </div>\n",
              "\n",
              "\n",
              "<div id=\"df-58f60f0a-1dbe-4885-9f49-459105412fb6\">\n",
              "  <button class=\"colab-df-quickchart\" onclick=\"quickchart('df-58f60f0a-1dbe-4885-9f49-459105412fb6')\"\n",
              "            title=\"Suggest charts\"\n",
              "            style=\"display:none;\">\n",
              "\n",
              "<svg xmlns=\"http://www.w3.org/2000/svg\" height=\"24px\"viewBox=\"0 0 24 24\"\n",
              "     width=\"24px\">\n",
              "    <g>\n",
              "        <path d=\"M19 3H5c-1.1 0-2 .9-2 2v14c0 1.1.9 2 2 2h14c1.1 0 2-.9 2-2V5c0-1.1-.9-2-2-2zM9 17H7v-7h2v7zm4 0h-2V7h2v10zm4 0h-2v-4h2v4z\"/>\n",
              "    </g>\n",
              "</svg>\n",
              "  </button>\n",
              "\n",
              "<style>\n",
              "  .colab-df-quickchart {\n",
              "      --bg-color: #E8F0FE;\n",
              "      --fill-color: #1967D2;\n",
              "      --hover-bg-color: #E2EBFA;\n",
              "      --hover-fill-color: #174EA6;\n",
              "      --disabled-fill-color: #AAA;\n",
              "      --disabled-bg-color: #DDD;\n",
              "  }\n",
              "\n",
              "  [theme=dark] .colab-df-quickchart {\n",
              "      --bg-color: #3B4455;\n",
              "      --fill-color: #D2E3FC;\n",
              "      --hover-bg-color: #434B5C;\n",
              "      --hover-fill-color: #FFFFFF;\n",
              "      --disabled-bg-color: #3B4455;\n",
              "      --disabled-fill-color: #666;\n",
              "  }\n",
              "\n",
              "  .colab-df-quickchart {\n",
              "    background-color: var(--bg-color);\n",
              "    border: none;\n",
              "    border-radius: 50%;\n",
              "    cursor: pointer;\n",
              "    display: none;\n",
              "    fill: var(--fill-color);\n",
              "    height: 32px;\n",
              "    padding: 0;\n",
              "    width: 32px;\n",
              "  }\n",
              "\n",
              "  .colab-df-quickchart:hover {\n",
              "    background-color: var(--hover-bg-color);\n",
              "    box-shadow: 0 1px 2px rgba(60, 64, 67, 0.3), 0 1px 3px 1px rgba(60, 64, 67, 0.15);\n",
              "    fill: var(--button-hover-fill-color);\n",
              "  }\n",
              "\n",
              "  .colab-df-quickchart-complete:disabled,\n",
              "  .colab-df-quickchart-complete:disabled:hover {\n",
              "    background-color: var(--disabled-bg-color);\n",
              "    fill: var(--disabled-fill-color);\n",
              "    box-shadow: none;\n",
              "  }\n",
              "\n",
              "  .colab-df-spinner {\n",
              "    border: 2px solid var(--fill-color);\n",
              "    border-color: transparent;\n",
              "    border-bottom-color: var(--fill-color);\n",
              "    animation:\n",
              "      spin 1s steps(1) infinite;\n",
              "  }\n",
              "\n",
              "  @keyframes spin {\n",
              "    0% {\n",
              "      border-color: transparent;\n",
              "      border-bottom-color: var(--fill-color);\n",
              "      border-left-color: var(--fill-color);\n",
              "    }\n",
              "    20% {\n",
              "      border-color: transparent;\n",
              "      border-left-color: var(--fill-color);\n",
              "      border-top-color: var(--fill-color);\n",
              "    }\n",
              "    30% {\n",
              "      border-color: transparent;\n",
              "      border-left-color: var(--fill-color);\n",
              "      border-top-color: var(--fill-color);\n",
              "      border-right-color: var(--fill-color);\n",
              "    }\n",
              "    40% {\n",
              "      border-color: transparent;\n",
              "      border-right-color: var(--fill-color);\n",
              "      border-top-color: var(--fill-color);\n",
              "    }\n",
              "    60% {\n",
              "      border-color: transparent;\n",
              "      border-right-color: var(--fill-color);\n",
              "    }\n",
              "    80% {\n",
              "      border-color: transparent;\n",
              "      border-right-color: var(--fill-color);\n",
              "      border-bottom-color: var(--fill-color);\n",
              "    }\n",
              "    90% {\n",
              "      border-color: transparent;\n",
              "      border-bottom-color: var(--fill-color);\n",
              "    }\n",
              "  }\n",
              "</style>\n",
              "\n",
              "  <script>\n",
              "    async function quickchart(key) {\n",
              "      const quickchartButtonEl =\n",
              "        document.querySelector('#' + key + ' button');\n",
              "      quickchartButtonEl.disabled = true;  // To prevent multiple clicks.\n",
              "      quickchartButtonEl.classList.add('colab-df-spinner');\n",
              "      try {\n",
              "        const charts = await google.colab.kernel.invokeFunction(\n",
              "            'suggestCharts', [key], {});\n",
              "      } catch (error) {\n",
              "        console.error('Error during call to suggestCharts:', error);\n",
              "      }\n",
              "      quickchartButtonEl.classList.remove('colab-df-spinner');\n",
              "      quickchartButtonEl.classList.add('colab-df-quickchart-complete');\n",
              "    }\n",
              "    (() => {\n",
              "      let quickchartButtonEl =\n",
              "        document.querySelector('#df-58f60f0a-1dbe-4885-9f49-459105412fb6 button');\n",
              "      quickchartButtonEl.style.display =\n",
              "        google.colab.kernel.accessAllowed ? 'block' : 'none';\n",
              "    })();\n",
              "  </script>\n",
              "</div>\n",
              "\n",
              "    </div>\n",
              "  </div>\n"
            ],
            "application/vnd.google.colaboratory.intrinsic+json": {
              "type": "dataframe",
              "variable_name": "df",
              "summary": "{\n  \"name\": \"df\",\n  \"rows\": 1338,\n  \"fields\": [\n    {\n      \"column\": \"age\",\n      \"properties\": {\n        \"dtype\": \"number\",\n        \"std\": 14,\n        \"min\": 18,\n        \"max\": 64,\n        \"num_unique_values\": 47,\n        \"samples\": [\n          21,\n          45,\n          36\n        ],\n        \"semantic_type\": \"\",\n        \"description\": \"\"\n      }\n    },\n    {\n      \"column\": \"sex\",\n      \"properties\": {\n        \"dtype\": \"category\",\n        \"num_unique_values\": 2,\n        \"samples\": [\n          \"male\",\n          \"female\"\n        ],\n        \"semantic_type\": \"\",\n        \"description\": \"\"\n      }\n    },\n    {\n      \"column\": \"bmi\",\n      \"properties\": {\n        \"dtype\": \"number\",\n        \"std\": 6.098186911679017,\n        \"min\": 15.96,\n        \"max\": 53.13,\n        \"num_unique_values\": 548,\n        \"samples\": [\n          23.18,\n          26.885\n        ],\n        \"semantic_type\": \"\",\n        \"description\": \"\"\n      }\n    },\n    {\n      \"column\": \"children\",\n      \"properties\": {\n        \"dtype\": \"number\",\n        \"std\": 1,\n        \"min\": 0,\n        \"max\": 5,\n        \"num_unique_values\": 6,\n        \"samples\": [\n          0,\n          1\n        ],\n        \"semantic_type\": \"\",\n        \"description\": \"\"\n      }\n    },\n    {\n      \"column\": \"smoker\",\n      \"properties\": {\n        \"dtype\": \"number\",\n        \"std\": 0,\n        \"min\": 0,\n        \"max\": 1,\n        \"num_unique_values\": 2,\n        \"samples\": [\n          0,\n          1\n        ],\n        \"semantic_type\": \"\",\n        \"description\": \"\"\n      }\n    },\n    {\n      \"column\": \"region\",\n      \"properties\": {\n        \"dtype\": \"category\",\n        \"num_unique_values\": 4,\n        \"samples\": [\n          \"southeast\",\n          \"northeast\"\n        ],\n        \"semantic_type\": \"\",\n        \"description\": \"\"\n      }\n    },\n    {\n      \"column\": \"charges\",\n      \"properties\": {\n        \"dtype\": \"number\",\n        \"std\": 12110.012882303801,\n        \"min\": 1122.0,\n        \"max\": 63770.0,\n        \"num_unique_values\": 1294,\n        \"samples\": [\n          14133.0,\n          12574.0\n        ],\n        \"semantic_type\": \"\",\n        \"description\": \"\"\n      }\n    }\n  ]\n}"
            }
          },
          "metadata": {},
          "execution_count": 6
        }
      ]
    },
    {
      "cell_type": "markdown",
      "source": [
        "## Explore Correlation"
      ],
      "metadata": {
        "id": "VR_fSrNdbIT3"
      }
    },
    {
      "cell_type": "markdown",
      "source": [
        "### 1\\) Correlation Heatmap"
      ],
      "metadata": {
        "id": "hmcNvvxXLwRu"
      }
    },
    {
      "cell_type": "markdown",
      "source": [
        "1a) Define a variable containing the correlations between variables in the insurance dataset."
      ],
      "metadata": {
        "id": "ttw662JapJNP"
      }
    },
    {
      "cell_type": "code",
      "source": [
        "# Find correlations\n",
        "corr = df.corr(numeric_only = True)\n",
        "corr"
      ],
      "metadata": {
        "id": "1vDRFjeu9LQr",
        "colab": {
          "base_uri": "https://localhost:8080/",
          "height": 206
        },
        "outputId": "ecac181c-6c04-4674-a102-37bdeb2de009"
      },
      "execution_count": 8,
      "outputs": [
        {
          "output_type": "execute_result",
          "data": {
            "text/plain": [
              "               age       bmi  children    smoker   charges\n",
              "age       1.000000  0.109272  0.042469 -0.025019  0.299009\n",
              "bmi       0.109272  1.000000  0.012759  0.003750  0.198341\n",
              "children  0.042469  0.012759  1.000000  0.007673  0.067997\n",
              "smoker   -0.025019  0.003750  0.007673  1.000000  0.787251\n",
              "charges   0.299009  0.198341  0.067997  0.787251  1.000000"
            ],
            "text/html": [
              "\n",
              "  <div id=\"df-d67bd268-cf96-41da-af05-9fbb24c97a1e\" class=\"colab-df-container\">\n",
              "    <div>\n",
              "<style scoped>\n",
              "    .dataframe tbody tr th:only-of-type {\n",
              "        vertical-align: middle;\n",
              "    }\n",
              "\n",
              "    .dataframe tbody tr th {\n",
              "        vertical-align: top;\n",
              "    }\n",
              "\n",
              "    .dataframe thead th {\n",
              "        text-align: right;\n",
              "    }\n",
              "</style>\n",
              "<table border=\"1\" class=\"dataframe\">\n",
              "  <thead>\n",
              "    <tr style=\"text-align: right;\">\n",
              "      <th></th>\n",
              "      <th>age</th>\n",
              "      <th>bmi</th>\n",
              "      <th>children</th>\n",
              "      <th>smoker</th>\n",
              "      <th>charges</th>\n",
              "    </tr>\n",
              "  </thead>\n",
              "  <tbody>\n",
              "    <tr>\n",
              "      <th>age</th>\n",
              "      <td>1.000000</td>\n",
              "      <td>0.109272</td>\n",
              "      <td>0.042469</td>\n",
              "      <td>-0.025019</td>\n",
              "      <td>0.299009</td>\n",
              "    </tr>\n",
              "    <tr>\n",
              "      <th>bmi</th>\n",
              "      <td>0.109272</td>\n",
              "      <td>1.000000</td>\n",
              "      <td>0.012759</td>\n",
              "      <td>0.003750</td>\n",
              "      <td>0.198341</td>\n",
              "    </tr>\n",
              "    <tr>\n",
              "      <th>children</th>\n",
              "      <td>0.042469</td>\n",
              "      <td>0.012759</td>\n",
              "      <td>1.000000</td>\n",
              "      <td>0.007673</td>\n",
              "      <td>0.067997</td>\n",
              "    </tr>\n",
              "    <tr>\n",
              "      <th>smoker</th>\n",
              "      <td>-0.025019</td>\n",
              "      <td>0.003750</td>\n",
              "      <td>0.007673</td>\n",
              "      <td>1.000000</td>\n",
              "      <td>0.787251</td>\n",
              "    </tr>\n",
              "    <tr>\n",
              "      <th>charges</th>\n",
              "      <td>0.299009</td>\n",
              "      <td>0.198341</td>\n",
              "      <td>0.067997</td>\n",
              "      <td>0.787251</td>\n",
              "      <td>1.000000</td>\n",
              "    </tr>\n",
              "  </tbody>\n",
              "</table>\n",
              "</div>\n",
              "    <div class=\"colab-df-buttons\">\n",
              "\n",
              "  <div class=\"colab-df-container\">\n",
              "    <button class=\"colab-df-convert\" onclick=\"convertToInteractive('df-d67bd268-cf96-41da-af05-9fbb24c97a1e')\"\n",
              "            title=\"Convert this dataframe to an interactive table.\"\n",
              "            style=\"display:none;\">\n",
              "\n",
              "  <svg xmlns=\"http://www.w3.org/2000/svg\" height=\"24px\" viewBox=\"0 -960 960 960\">\n",
              "    <path d=\"M120-120v-720h720v720H120Zm60-500h600v-160H180v160Zm220 220h160v-160H400v160Zm0 220h160v-160H400v160ZM180-400h160v-160H180v160Zm440 0h160v-160H620v160ZM180-180h160v-160H180v160Zm440 0h160v-160H620v160Z\"/>\n",
              "  </svg>\n",
              "    </button>\n",
              "\n",
              "  <style>\n",
              "    .colab-df-container {\n",
              "      display:flex;\n",
              "      gap: 12px;\n",
              "    }\n",
              "\n",
              "    .colab-df-convert {\n",
              "      background-color: #E8F0FE;\n",
              "      border: none;\n",
              "      border-radius: 50%;\n",
              "      cursor: pointer;\n",
              "      display: none;\n",
              "      fill: #1967D2;\n",
              "      height: 32px;\n",
              "      padding: 0 0 0 0;\n",
              "      width: 32px;\n",
              "    }\n",
              "\n",
              "    .colab-df-convert:hover {\n",
              "      background-color: #E2EBFA;\n",
              "      box-shadow: 0px 1px 2px rgba(60, 64, 67, 0.3), 0px 1px 3px 1px rgba(60, 64, 67, 0.15);\n",
              "      fill: #174EA6;\n",
              "    }\n",
              "\n",
              "    .colab-df-buttons div {\n",
              "      margin-bottom: 4px;\n",
              "    }\n",
              "\n",
              "    [theme=dark] .colab-df-convert {\n",
              "      background-color: #3B4455;\n",
              "      fill: #D2E3FC;\n",
              "    }\n",
              "\n",
              "    [theme=dark] .colab-df-convert:hover {\n",
              "      background-color: #434B5C;\n",
              "      box-shadow: 0px 1px 3px 1px rgba(0, 0, 0, 0.15);\n",
              "      filter: drop-shadow(0px 1px 2px rgba(0, 0, 0, 0.3));\n",
              "      fill: #FFFFFF;\n",
              "    }\n",
              "  </style>\n",
              "\n",
              "    <script>\n",
              "      const buttonEl =\n",
              "        document.querySelector('#df-d67bd268-cf96-41da-af05-9fbb24c97a1e button.colab-df-convert');\n",
              "      buttonEl.style.display =\n",
              "        google.colab.kernel.accessAllowed ? 'block' : 'none';\n",
              "\n",
              "      async function convertToInteractive(key) {\n",
              "        const element = document.querySelector('#df-d67bd268-cf96-41da-af05-9fbb24c97a1e');\n",
              "        const dataTable =\n",
              "          await google.colab.kernel.invokeFunction('convertToInteractive',\n",
              "                                                    [key], {});\n",
              "        if (!dataTable) return;\n",
              "\n",
              "        const docLinkHtml = 'Like what you see? Visit the ' +\n",
              "          '<a target=\"_blank\" href=https://colab.research.google.com/notebooks/data_table.ipynb>data table notebook</a>'\n",
              "          + ' to learn more about interactive tables.';\n",
              "        element.innerHTML = '';\n",
              "        dataTable['output_type'] = 'display_data';\n",
              "        await google.colab.output.renderOutput(dataTable, element);\n",
              "        const docLink = document.createElement('div');\n",
              "        docLink.innerHTML = docLinkHtml;\n",
              "        element.appendChild(docLink);\n",
              "      }\n",
              "    </script>\n",
              "  </div>\n",
              "\n",
              "\n",
              "<div id=\"df-999ae7f1-f4c5-47a5-9d8b-9dec67f71c25\">\n",
              "  <button class=\"colab-df-quickchart\" onclick=\"quickchart('df-999ae7f1-f4c5-47a5-9d8b-9dec67f71c25')\"\n",
              "            title=\"Suggest charts\"\n",
              "            style=\"display:none;\">\n",
              "\n",
              "<svg xmlns=\"http://www.w3.org/2000/svg\" height=\"24px\"viewBox=\"0 0 24 24\"\n",
              "     width=\"24px\">\n",
              "    <g>\n",
              "        <path d=\"M19 3H5c-1.1 0-2 .9-2 2v14c0 1.1.9 2 2 2h14c1.1 0 2-.9 2-2V5c0-1.1-.9-2-2-2zM9 17H7v-7h2v7zm4 0h-2V7h2v10zm4 0h-2v-4h2v4z\"/>\n",
              "    </g>\n",
              "</svg>\n",
              "  </button>\n",
              "\n",
              "<style>\n",
              "  .colab-df-quickchart {\n",
              "      --bg-color: #E8F0FE;\n",
              "      --fill-color: #1967D2;\n",
              "      --hover-bg-color: #E2EBFA;\n",
              "      --hover-fill-color: #174EA6;\n",
              "      --disabled-fill-color: #AAA;\n",
              "      --disabled-bg-color: #DDD;\n",
              "  }\n",
              "\n",
              "  [theme=dark] .colab-df-quickchart {\n",
              "      --bg-color: #3B4455;\n",
              "      --fill-color: #D2E3FC;\n",
              "      --hover-bg-color: #434B5C;\n",
              "      --hover-fill-color: #FFFFFF;\n",
              "      --disabled-bg-color: #3B4455;\n",
              "      --disabled-fill-color: #666;\n",
              "  }\n",
              "\n",
              "  .colab-df-quickchart {\n",
              "    background-color: var(--bg-color);\n",
              "    border: none;\n",
              "    border-radius: 50%;\n",
              "    cursor: pointer;\n",
              "    display: none;\n",
              "    fill: var(--fill-color);\n",
              "    height: 32px;\n",
              "    padding: 0;\n",
              "    width: 32px;\n",
              "  }\n",
              "\n",
              "  .colab-df-quickchart:hover {\n",
              "    background-color: var(--hover-bg-color);\n",
              "    box-shadow: 0 1px 2px rgba(60, 64, 67, 0.3), 0 1px 3px 1px rgba(60, 64, 67, 0.15);\n",
              "    fill: var(--button-hover-fill-color);\n",
              "  }\n",
              "\n",
              "  .colab-df-quickchart-complete:disabled,\n",
              "  .colab-df-quickchart-complete:disabled:hover {\n",
              "    background-color: var(--disabled-bg-color);\n",
              "    fill: var(--disabled-fill-color);\n",
              "    box-shadow: none;\n",
              "  }\n",
              "\n",
              "  .colab-df-spinner {\n",
              "    border: 2px solid var(--fill-color);\n",
              "    border-color: transparent;\n",
              "    border-bottom-color: var(--fill-color);\n",
              "    animation:\n",
              "      spin 1s steps(1) infinite;\n",
              "  }\n",
              "\n",
              "  @keyframes spin {\n",
              "    0% {\n",
              "      border-color: transparent;\n",
              "      border-bottom-color: var(--fill-color);\n",
              "      border-left-color: var(--fill-color);\n",
              "    }\n",
              "    20% {\n",
              "      border-color: transparent;\n",
              "      border-left-color: var(--fill-color);\n",
              "      border-top-color: var(--fill-color);\n",
              "    }\n",
              "    30% {\n",
              "      border-color: transparent;\n",
              "      border-left-color: var(--fill-color);\n",
              "      border-top-color: var(--fill-color);\n",
              "      border-right-color: var(--fill-color);\n",
              "    }\n",
              "    40% {\n",
              "      border-color: transparent;\n",
              "      border-right-color: var(--fill-color);\n",
              "      border-top-color: var(--fill-color);\n",
              "    }\n",
              "    60% {\n",
              "      border-color: transparent;\n",
              "      border-right-color: var(--fill-color);\n",
              "    }\n",
              "    80% {\n",
              "      border-color: transparent;\n",
              "      border-right-color: var(--fill-color);\n",
              "      border-bottom-color: var(--fill-color);\n",
              "    }\n",
              "    90% {\n",
              "      border-color: transparent;\n",
              "      border-bottom-color: var(--fill-color);\n",
              "    }\n",
              "  }\n",
              "</style>\n",
              "\n",
              "  <script>\n",
              "    async function quickchart(key) {\n",
              "      const quickchartButtonEl =\n",
              "        document.querySelector('#' + key + ' button');\n",
              "      quickchartButtonEl.disabled = true;  // To prevent multiple clicks.\n",
              "      quickchartButtonEl.classList.add('colab-df-spinner');\n",
              "      try {\n",
              "        const charts = await google.colab.kernel.invokeFunction(\n",
              "            'suggestCharts', [key], {});\n",
              "      } catch (error) {\n",
              "        console.error('Error during call to suggestCharts:', error);\n",
              "      }\n",
              "      quickchartButtonEl.classList.remove('colab-df-spinner');\n",
              "      quickchartButtonEl.classList.add('colab-df-quickchart-complete');\n",
              "    }\n",
              "    (() => {\n",
              "      let quickchartButtonEl =\n",
              "        document.querySelector('#df-999ae7f1-f4c5-47a5-9d8b-9dec67f71c25 button');\n",
              "      quickchartButtonEl.style.display =\n",
              "        google.colab.kernel.accessAllowed ? 'block' : 'none';\n",
              "    })();\n",
              "  </script>\n",
              "</div>\n",
              "\n",
              "  <div id=\"id_233df68a-64cc-4a0d-a959-146d7450ce13\">\n",
              "    <style>\n",
              "      .colab-df-generate {\n",
              "        background-color: #E8F0FE;\n",
              "        border: none;\n",
              "        border-radius: 50%;\n",
              "        cursor: pointer;\n",
              "        display: none;\n",
              "        fill: #1967D2;\n",
              "        height: 32px;\n",
              "        padding: 0 0 0 0;\n",
              "        width: 32px;\n",
              "      }\n",
              "\n",
              "      .colab-df-generate:hover {\n",
              "        background-color: #E2EBFA;\n",
              "        box-shadow: 0px 1px 2px rgba(60, 64, 67, 0.3), 0px 1px 3px 1px rgba(60, 64, 67, 0.15);\n",
              "        fill: #174EA6;\n",
              "      }\n",
              "\n",
              "      [theme=dark] .colab-df-generate {\n",
              "        background-color: #3B4455;\n",
              "        fill: #D2E3FC;\n",
              "      }\n",
              "\n",
              "      [theme=dark] .colab-df-generate:hover {\n",
              "        background-color: #434B5C;\n",
              "        box-shadow: 0px 1px 3px 1px rgba(0, 0, 0, 0.15);\n",
              "        filter: drop-shadow(0px 1px 2px rgba(0, 0, 0, 0.3));\n",
              "        fill: #FFFFFF;\n",
              "      }\n",
              "    </style>\n",
              "    <button class=\"colab-df-generate\" onclick=\"generateWithVariable('corr')\"\n",
              "            title=\"Generate code using this dataframe.\"\n",
              "            style=\"display:none;\">\n",
              "\n",
              "  <svg xmlns=\"http://www.w3.org/2000/svg\" height=\"24px\"viewBox=\"0 0 24 24\"\n",
              "       width=\"24px\">\n",
              "    <path d=\"M7,19H8.4L18.45,9,17,7.55,7,17.6ZM5,21V16.75L18.45,3.32a2,2,0,0,1,2.83,0l1.4,1.43a1.91,1.91,0,0,1,.58,1.4,1.91,1.91,0,0,1-.58,1.4L9.25,21ZM18.45,9,17,7.55Zm-12,3A5.31,5.31,0,0,0,4.9,8.1,5.31,5.31,0,0,0,1,6.5,5.31,5.31,0,0,0,4.9,4.9,5.31,5.31,0,0,0,6.5,1,5.31,5.31,0,0,0,8.1,4.9,5.31,5.31,0,0,0,12,6.5,5.46,5.46,0,0,0,6.5,12Z\"/>\n",
              "  </svg>\n",
              "    </button>\n",
              "    <script>\n",
              "      (() => {\n",
              "      const buttonEl =\n",
              "        document.querySelector('#id_233df68a-64cc-4a0d-a959-146d7450ce13 button.colab-df-generate');\n",
              "      buttonEl.style.display =\n",
              "        google.colab.kernel.accessAllowed ? 'block' : 'none';\n",
              "\n",
              "      buttonEl.onclick = () => {\n",
              "        google.colab.notebook.generateWithVariable('corr');\n",
              "      }\n",
              "      })();\n",
              "    </script>\n",
              "  </div>\n",
              "\n",
              "    </div>\n",
              "  </div>\n"
            ],
            "application/vnd.google.colaboratory.intrinsic+json": {
              "type": "dataframe",
              "variable_name": "corr",
              "summary": "{\n  \"name\": \"corr\",\n  \"rows\": 5,\n  \"fields\": [\n    {\n      \"column\": \"age\",\n      \"properties\": {\n        \"dtype\": \"number\",\n        \"std\": 0.4175028207029073,\n        \"min\": -0.02501875153628507,\n        \"max\": 1.0,\n        \"num_unique_values\": 5,\n        \"samples\": [\n          0.1092718815485351,\n          0.29900869088440424,\n          0.04246899855884958\n        ],\n        \"semantic_type\": \"\",\n        \"description\": \"\"\n      }\n    },\n    {\n      \"column\": \"bmi\",\n      \"properties\": {\n        \"dtype\": \"number\",\n        \"std\": 0.4185679294669144,\n        \"min\": 0.0037504259049804325,\n        \"max\": 1.0,\n        \"num_unique_values\": 5,\n        \"samples\": [\n          1.0,\n          0.19834085576056487,\n          0.012758900820673994\n        ],\n        \"semantic_type\": \"\",\n        \"description\": \"\"\n      }\n    },\n    {\n      \"column\": \"children\",\n      \"properties\": {\n        \"dtype\": \"number\",\n        \"std\": 0.4332616796040288,\n        \"min\": 0.00767312030771111,\n        \"max\": 1.0,\n        \"num_unique_values\": 5,\n        \"samples\": [\n          0.012758900820673994,\n          0.06799724001794857,\n          1.0\n        ],\n        \"semantic_type\": \"\",\n        \"description\": \"\"\n      }\n    },\n    {\n      \"column\": \"smoker\",\n      \"properties\": {\n        \"dtype\": \"number\",\n        \"std\": 0.4978183381067082,\n        \"min\": -0.02501875153628507,\n        \"max\": 1.0,\n        \"num_unique_values\": 5,\n        \"samples\": [\n          0.0037504259049804325,\n          0.7872514037038479,\n          0.00767312030771111\n        ],\n        \"semantic_type\": \"\",\n        \"description\": \"\"\n      }\n    },\n    {\n      \"column\": \"charges\",\n      \"properties\": {\n        \"dtype\": \"number\",\n        \"std\": 0.4019297328229711,\n        \"min\": 0.06799724001794857,\n        \"max\": 1.0,\n        \"num_unique_values\": 5,\n        \"samples\": [\n          0.19834085576056487,\n          1.0,\n          0.06799724001794857\n        ],\n        \"semantic_type\": \"\",\n        \"description\": \"\"\n      }\n    }\n  ]\n}"
            }
          },
          "metadata": {},
          "execution_count": 8
        }
      ]
    },
    {
      "cell_type": "markdown",
      "source": [
        "1b) Make a heatmap of the correlations and annote with the values."
      ],
      "metadata": {
        "id": "vb1BhChppVoC"
      }
    },
    {
      "cell_type": "code",
      "source": [
        "# Make a heatmap using the correlations from above\n",
        "# fig, ax = plt.subplots(figsize=(10,10)) #Shows a bigger graph\n",
        "fig, ax = plt.subplots()\n",
        "sns.heatmap(corr, cmap = 'coolwarm', annot = True, ax=ax);"
      ],
      "metadata": {
        "id": "K_TYp3K79DmA",
        "colab": {
          "base_uri": "https://localhost:8080/",
          "height": 435
        },
        "outputId": "40cc1427-8d42-4017-f7dd-2811b5b97277"
      },
      "execution_count": 17,
      "outputs": [
        {
          "output_type": "display_data",
          "data": {
            "text/plain": [
              "<Figure size 640x480 with 2 Axes>"
            ],
            "image/png": "[encoded data removed]"
          },
          "metadata": {}
        }
      ]
    },
    {
      "cell_type": "markdown",
      "source": [
        "1c) **Are there arny strong correlations?\n",
        "Is it a positive or negative correlation?**\n",
        "\n",
        "- Your Answer:\n",
        "  - `Smokers and Charges`\n"
      ],
      "metadata": {
        "id": "JZDmRGBo-DGz"
      }
    },
    {
      "cell_type": "markdown",
      "source": [
        "## Explore Charges vs. Smokers"
      ],
      "metadata": {
        "id": "dj5oPor-Y19m"
      }
    },
    {
      "cell_type": "markdown",
      "source": [
        "### 2\\) Barplot - Charges for Smokers vs. Non-Smokers"
      ],
      "metadata": {
        "id": "7PpiRtIBLzgn"
      }
    },
    {
      "cell_type": "markdown",
      "source": [
        "2a) Make a barplot to visualize the mean of charges for smokers and nonsmokers."
      ],
      "metadata": {
        "id": "UyB9PUdNptjt"
      }
    },
    {
      "cell_type": "code",
      "source": [
        "# Make a barplot of smoker vs charges\n",
        "# df['smoker_mask'] = df['smoker'].map({'Smoker': 1, 'Non-Smoker': 0})\n",
        "ax = sns.barplot(data=df, x='smoker', y=\"charges\",hue=\"smoker\")\n",
        "plt.xlabel(\"Smoker (1 = Yes, 0 = No)\")\n",
        "plt.ylabel(\"Charges\")\n",
        "plt.title(\"Charges for Smokers vs. Non-Smokers\")"
      ],
      "metadata": {
        "id": "TI_mrF0vAPS-",
        "colab": {
          "base_uri": "https://localhost:8080/",
          "height": 489
        },
        "outputId": "846b14a1-ddb1-4a67-c8d8-b57189cd47e8"
      },
      "execution_count": 51,
      "outputs": [
        {
          "output_type": "execute_result",
          "data": {
            "text/plain": [
              "Text(0.5, 1.0, 'Charges for Smokers vs. Non-Smokers')"
            ]
          },
          "metadata": {},
          "execution_count": 51
        },
        {
          "output_type": "display_data",
          "data": {
            "text/plain": [
              "<Figure size 640x480 with 1 Axes>"
            ],
            "image/png": "[encoded data removed]"
          },
          "metadata": {}
        }
      ]
    },
    {
      "cell_type": "markdown",
      "source": [
        "2b) Is the mean of charges higher for smokers or nonsmokers? ((In a future course, you will explore how to calculate the statistical significance of this difference)\n",
        "\n",
        "- Your Answer:\n",
        "  -  `Yes`"
      ],
      "metadata": {
        "id": "lK0eHR1RgWD_"
      }
    },
    {
      "cell_type": "markdown",
      "source": [
        "Calculated :"
      ],
      "metadata": {
        "id": "-UPcvKBd1SR_"
      }
    },
    {
      "cell_type": "code",
      "source": [
        "mean_for_smokers = df[df['smoker']==1]['charges'].mean().round(2)\n",
        "mean_for_non_smokers = df[df['smoker']==0]['charges'].mean().round(2)\n",
        "print(f\"Mean charges for smokers: {mean_for_smokers}\")\n",
        "print(f\"Mean charges for non-smokers: {mean_for_non_smokers}\")"
      ],
      "metadata": {
        "colab": {
          "base_uri": "https://localhost:8080/"
        },
        "id": "INPGVioV0mOg",
        "outputId": "e967d85c-5ab7-4fae-a3df-a3ccf912f0bb"
      },
      "execution_count": 37,
      "outputs": [
        {
          "output_type": "stream",
          "name": "stdout",
          "text": [
            "Mean charges for smokers: 32050.23\n",
            "Mean charges for non-smokers: 8434.26\n"
          ]
        }
      ]
    },
    {
      "cell_type": "markdown",
      "source": [
        "### 3\\) Boxplot - Charges for Smokers vs. Non-Smokers"
      ],
      "metadata": {
        "id": "tHgzMHxkL3Cc"
      }
    },
    {
      "cell_type": "markdown",
      "source": [
        "\n",
        "3a) Create a boxplot with x as smokers and y as charges.\n"
      ],
      "metadata": {
        "id": "eFx-SOEq0DYT"
      }
    },
    {
      "cell_type": "code",
      "source": [
        "# Create a boxplot of smoker vs. charges\n",
        "palette = {0: \"skyblue\", 1: \"salmon\"}\n",
        "\n",
        "ax = sns.boxplot(data=df, x='smoker', y=\"charges\",palette=palette,hue='smoker',legend=False)\n",
        "ax.set_title(\"Charges for Smokers vs. Non-Smokers\");\n",
        "ax.set_xlabel(\"Smoker (1 = Yes, 0 = No)\")\n",
        "ax.set_ylabel(\"Charges\")"
      ],
      "metadata": {
        "id": "z9rnjOFkzObW",
        "colab": {
          "base_uri": "https://localhost:8080/",
          "height": 489
        },
        "outputId": "9129025c-5df0-4a2f-eb23-c8634dd883fd"
      },
      "execution_count": 45,
      "outputs": [
        {
          "output_type": "execute_result",
          "data": {
            "text/plain": [
              "Text(0, 0.5, 'Charges')"
            ]
          },
          "metadata": {},
          "execution_count": 45
        },
        {
          "output_type": "display_data",
          "data": {
            "text/plain": [
              "<Figure size 640x480 with 1 Axes>"
            ],
            "image/png": "[encoded data removed]"
          },
          "metadata": {}
        }
      ]
    },
    {
      "cell_type": "markdown",
      "source": [
        "\n",
        "3b) What information does this include that you could not see in your bar chart?\n",
        "- Answer(s):\n",
        "  - `That the mean for Smokers is higher that the mean of charges for Non-Smokers.`"
      ],
      "metadata": {
        "id": "6uFlbOsIz6N3"
      }
    },
    {
      "cell_type": "markdown",
      "source": [
        "## Explore Charges for Males vs. Females"
      ],
      "metadata": {
        "id": "32T0Br-eZcBR"
      }
    },
    {
      "cell_type": "markdown",
      "source": [
        "### 4\\) Barplot - Charges for Males vs. Females"
      ],
      "metadata": {
        "id": "cs6-YudvME0w"
      }
    },
    {
      "cell_type": "markdown",
      "source": [
        "4a) Make a searborn barplot to visualize the difference in charges between males and females."
      ],
      "metadata": {
        "id": "BetqhtEMhAwo"
      }
    },
    {
      "cell_type": "code",
      "source": [
        "# Make a barplot of sex vs. charges\n",
        "ax = sns.barplot(data=df, x='sex', y=\"charges\",hue=\"sex\")\n",
        "ax.set_xlabel(\"Sex\")\n",
        "ax.set_ylabel(\"Charges\")\n",
        "ax.set_title(\"Charges for Males vs. Females\")"
      ],
      "metadata": {
        "id": "nmc9xFvK_XjP",
        "colab": {
          "base_uri": "https://localhost:8080/",
          "height": 489
        },
        "outputId": "3b472379-4f69-48e4-eb39-710463c100ce"
      },
      "execution_count": 52,
      "outputs": [
        {
          "output_type": "execute_result",
          "data": {
            "text/plain": [
              "Text(0.5, 1.0, 'Charges for Males vs. Females')"
            ]
          },
          "metadata": {},
          "execution_count": 52
        },
        {
          "output_type": "display_data",
          "data": {
            "text/plain": [
              "<Figure size 640x480 with 1 Axes>"
            ],
            "image/png": "[encoded data removed]"
          },
          "metadata": {}
        }
      ]
    },
    {
      "cell_type": "markdown",
      "source": [
        "4b)  Is the mean of charges higher for males or females?\n",
        "\n",
        "- Your Answer:\n",
        "  - `Charges Mean is higher for Males`"
      ],
      "metadata": {
        "id": "kOBxlQA4hM8z"
      }
    },
    {
      "cell_type": "markdown",
      "source": [
        "### 5\\) Grouped Barplot - Charges by Sex and Smoker"
      ],
      "metadata": {
        "id": "fyPMjPvsML_z"
      }
    },
    {
      "cell_type": "markdown",
      "source": [
        "5a\\) Create a seaborn barplot to visualize the diference between insurance charges grouped by Smoker (on the x-axis), and Sex (the hue)."
      ],
      "metadata": {
        "id": "0roFJtUfMSgK"
      }
    },
    {
      "cell_type": "code",
      "source": [
        "# Create a barplot of smoker vs charges, colored by sex\n",
        "ax = sns.barplot(data=df, x=\"sex\", y=\"charges\", hue='smoker')\n",
        "ax.set_title(\"Charges by Sex and Smoker\")\n",
        "ax.set_xlabel(\"Sex\")\n",
        "ax.set_ylabel(\"Charges\")\n",
        "\n",
        "# Customize Legend\n",
        "legend = ax.legend(title= \"Smokers\")\n",
        "\n",
        "# Grouped boxplot in seaborn\n",
        "# ax = sns.boxplot(data=df, x='Sex,Smoker', y=\"Charges\")\n",
        "# ax.set_title(\"Comparing Sale Price for Homes with/without Central Air\");"
      ],
      "metadata": {
        "id": "The0CEelZCdH",
        "colab": {
          "base_uri": "https://localhost:8080/",
          "height": 472
        },
        "outputId": "530a154c-9ac4-4c95-ec30-3e18ab2a9673"
      },
      "execution_count": 73,
      "outputs": [
        {
          "output_type": "display_data",
          "data": {
            "text/plain": [
              "<Figure size 640x480 with 1 Axes>"
            ],
            "image/png": "[encoded data removed]"
          },
          "metadata": {}
        }
      ]
    },
    {
      "cell_type": "markdown",
      "source": [
        "5b\\) What do you observe? Which of the 4 groups has the highest average charges?\n",
        "- Your Answer:\n",
        "  - `Male Smokers`"
      ],
      "metadata": {
        "id": "gL_5Daj_hLSL"
      }
    },
    {
      "cell_type": "markdown",
      "source": [
        "## Explore Age vs. Charges"
      ],
      "metadata": {
        "id": "RMOnbmvYZUwc"
      }
    },
    {
      "cell_type": "markdown",
      "source": [
        "### 6\\) Scatter Plot - Age vs. Charges"
      ],
      "metadata": {
        "id": "UQQPDYTsMdaB"
      }
    },
    {
      "cell_type": "markdown",
      "source": [
        "6a) Make a scatterplot to visualize the relationship between charges and age for the entire dataset"
      ],
      "metadata": {
        "id": "nwZWcr1kg5wN"
      }
    },
    {
      "cell_type": "code",
      "source": [
        "# Create a scatter plot of age vs charges\n"
      ],
      "metadata": {
        "id": "jiV1VfSZ-qTl"
      },
      "execution_count": null,
      "outputs": []
    },
    {
      "cell_type": "markdown",
      "source": [
        "6b) Desribe what you notice from the visualization.\n",
        "- Your Answer:\n",
        "  - `...`"
      ],
      "metadata": {
        "id": "f5BzA-p5sHKN"
      }
    },
    {
      "cell_type": "markdown",
      "source": [
        "### 7\\)  Grouped Scatter Plot - Age vs. Charges, colored by Smoker"
      ],
      "metadata": {
        "id": "OI38q5mNMvSu"
      }
    },
    {
      "cell_type": "markdown",
      "source": [
        "7a) Make a scatterplot to visualize the relationship between charges and age, but colored by smoker or not."
      ],
      "metadata": {
        "id": "8GGC7UzsiPSG"
      }
    },
    {
      "cell_type": "code",
      "source": [
        "# make another scatterplot of age vs charges, but colored by smoker\n",
        "# (using seaborn will make this easy)\n"
      ],
      "metadata": {
        "id": "_YIARoyXBQVh"
      },
      "execution_count": null,
      "outputs": []
    },
    {
      "cell_type": "markdown",
      "source": [
        "7b) Desribe what you notice from the visualization."
      ],
      "metadata": {
        "id": "bWf9pnezsvKs"
      }
    },
    {
      "cell_type": "markdown",
      "source": [
        "- Your Answer:\n",
        "  - `...`"
      ],
      "metadata": {
        "id": "huf31CWsFEKH"
      }
    },
    {
      "cell_type": "markdown",
      "source": [
        "### 8\\) Grouped Scatter Plot - Age vs. Charges, colored by Sex"
      ],
      "metadata": {
        "id": "-PQQl-xCM0zp"
      }
    },
    {
      "cell_type": "markdown",
      "source": [
        "8a) Make a scatterplot to visualize the relationship between charges and age, but colored by sex."
      ],
      "metadata": {
        "id": "SY8ndoCSs5Sx"
      }
    },
    {
      "cell_type": "code",
      "source": [
        "# make another scatterplot of charges vs age, but this time color the dots by sex\n"
      ],
      "metadata": {
        "id": "IRljiwsLE8RO"
      },
      "execution_count": null,
      "outputs": []
    },
    {
      "cell_type": "markdown",
      "source": [
        "8b) Describe what you notice from the visualization\n",
        "\n",
        "- Your Answer:\n",
        "  - `...`"
      ],
      "metadata": {
        "id": "TYOdVfj7jHn9"
      }
    },
    {
      "cell_type": "markdown",
      "source": [
        "## Explore BMI"
      ],
      "metadata": {
        "id": "pn4FtAZ2YMhi"
      }
    },
    {
      "cell_type": "markdown",
      "source": [
        "### 9\\) Regplot - Charges vs. BMI"
      ],
      "metadata": {
        "id": "UvrBrI1GM5JN"
      }
    },
    {
      "cell_type": "markdown",
      "source": [
        "9a) Make a seaborn regplot to visualize the relationship between charges and bmi for the entire dataset"
      ],
      "metadata": {
        "id": "7J8rjC4Cj4B_"
      }
    },
    {
      "cell_type": "code",
      "source": [
        "# Make a seaborn regplot for bmi vs. charges.\n"
      ],
      "metadata": {
        "id": "ZeUYTsoEuGSf"
      },
      "execution_count": null,
      "outputs": []
    },
    {
      "cell_type": "markdown",
      "source": [
        "9b\\) What do you notice from the visualization? *(There are many correct answers.)*\n",
        "\n",
        "- Your Answer:\n",
        "  - `...`"
      ],
      "metadata": {
        "id": "rzBE8eXvM-qW"
      }
    },
    {
      "cell_type": "markdown",
      "source": [
        "### 10\\) Scatterplot - Charges vs. BMI - Colored by Smoker"
      ],
      "metadata": {
        "id": "RCH5F9l5NNVv"
      }
    },
    {
      "cell_type": "markdown",
      "source": [
        "10a) Make a scatterplot to visualize the relationship between charges and bmi colored by smoker or not"
      ],
      "metadata": {
        "id": "a2uDSYjNuSQj"
      }
    },
    {
      "cell_type": "code",
      "source": [
        "# Make a scatterplot of bmi vs charges, colored by smoker\n"
      ],
      "metadata": {
        "id": "g_Bdi_8WuZfU"
      },
      "execution_count": null,
      "outputs": []
    },
    {
      "cell_type": "markdown",
      "source": [
        "10b) What do you notice from the visualization? (There are many correct answers.)\n",
        "\n",
        "- Your Answer:\n",
        "  - `...`"
      ],
      "metadata": {
        "id": "XquSC_xhi25w"
      }
    },
    {
      "cell_type": "markdown",
      "source": [
        "### 11\\)  Linear Model Plot - Charges vs. BMI - Colored by Smoker\n"
      ],
      "metadata": {
        "id": "-rD-8K2PRaCm"
      }
    },
    {
      "cell_type": "markdown",
      "source": [
        "\n",
        "11a) Compare the relationship of bmi and charges for smokers and nonsmokers using seaborn's `lmplot` to calculate a separate trendline for Smokers vs. Non-Smokers.\n"
      ],
      "metadata": {
        "id": "EH5e56Z80Q1R"
      }
    },
    {
      "cell_type": "code",
      "source": [
        "# Create an lmplot of bmi vs. charges, colored by smoker.\n"
      ],
      "metadata": {
        "id": "O-Ez0DEuyP5r"
      },
      "execution_count": null,
      "outputs": []
    },
    {
      "cell_type": "markdown",
      "source": [
        "11b) What do you notice from the visualization? (Compare the trendlines.)\n",
        "\n",
        "- Your Answer:\n",
        "  - `...`"
      ],
      "metadata": {
        "id": "x1j4i0yTfPHm"
      }
    },
    {
      "cell_type": "markdown",
      "source": [
        "## Explore Regions"
      ],
      "metadata": {
        "id": "7y756yyjX0Wj"
      }
    },
    {
      "cell_type": "markdown",
      "source": [
        "### 12\\) Countplot for Regions"
      ],
      "metadata": {
        "id": "NLzsUiDKXul_"
      }
    },
    {
      "cell_type": "markdown",
      "source": [
        "12a) Make a countplot to show how many customers per region."
      ],
      "metadata": {
        "id": "agKq6QN5zwp_"
      }
    },
    {
      "cell_type": "code",
      "source": [
        "# Make a countplot for region\n"
      ],
      "metadata": {
        "id": "IEohISP3airl"
      },
      "execution_count": null,
      "outputs": []
    },
    {
      "cell_type": "markdown",
      "source": [
        "12b) Which region appears the most in this data set?\n",
        "\n",
        "- Your Answer:\n",
        "  - `...`"
      ],
      "metadata": {
        "id": "6JH_3o7hYVtZ"
      }
    },
    {
      "cell_type": "markdown",
      "source": [
        "### 13\\) Barplot of Charges by Region"
      ],
      "metadata": {
        "id": "wkra4PVHYRXj"
      }
    },
    {
      "cell_type": "markdown",
      "source": [
        "13a) Make a barplot to show average charges by region."
      ],
      "metadata": {
        "id": "1QwpLsKeycrm"
      }
    },
    {
      "cell_type": "code",
      "source": [
        "# make a barplot of charges by region\n"
      ],
      "metadata": {
        "id": "5fcE5TI3XDB6"
      },
      "execution_count": null,
      "outputs": []
    },
    {
      "cell_type": "markdown",
      "source": [
        "13b) Which region has the highest average charges?\n",
        "\n",
        "- Your Answer:\n",
        "  - `...`"
      ],
      "metadata": {
        "id": "7cjEPw2pYjwY"
      }
    },
    {
      "cell_type": "markdown",
      "source": [
        "### 14\\) Bar Chart of Ratios (%) of Smokers in Each Region"
      ],
      "metadata": {
        "id": "jeDz5cd9Yr21"
      }
    },
    {
      "cell_type": "markdown",
      "source": [
        "14a) Calculate the ratio of smokers in each region and save it as a variable called \"percent_smoker_by_region\". (Hint: use .groupby with \"region\" combined with slicing the \"smoker\" column and end with .mean() )"
      ],
      "metadata": {
        "id": "D6ENfzEdu-JG"
      }
    },
    {
      "cell_type": "code",
      "source": [
        "# use groupby to get the mean of smoker grouped by region\n"
      ],
      "metadata": {
        "id": "oQnOHn7rbwsO"
      },
      "execution_count": null,
      "outputs": []
    },
    {
      "cell_type": "markdown",
      "source": [
        "14b) Plot the ratios of smokers by region as a bar plot.\n",
        "\n"
      ],
      "metadata": {
        "id": "-uWkQ8pDu9o9"
      }
    },
    {
      "cell_type": "code",
      "source": [
        "# Plot the ratios (the results of then groupby above)\n"
      ],
      "metadata": {
        "id": "Edk78zMxdCvo"
      },
      "execution_count": null,
      "outputs": []
    },
    {
      "cell_type": "markdown",
      "source": [
        "14c) Which region has the highest ratio of smokers?\n",
        "\n",
        "- Your Answer:\n",
        "  - `...`"
      ],
      "metadata": {
        "id": "opJFbsbFzp0V"
      }
    },
    {
      "cell_type": "markdown",
      "source": [
        "> You've completed the assignment! Download your notebook and upload it as your submission."
      ],
      "metadata": {
        "id": "qSNHs00FcsNQ"
      }
    }
  ]
}