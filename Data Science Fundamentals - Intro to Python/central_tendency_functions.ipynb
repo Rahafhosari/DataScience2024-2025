{
  "nbformat": 4,
  "nbformat_minor": 0,
  "metadata": {
    "colab": {
      "provenance": []
    },
    "kernelspec": {
      "name": "python3",
      "display_name": "Python 3"
    },
    "language_info": {
      "name": "python"
    }
  },
  "cells": [
    {
      "cell_type": "markdown",
      "source": [],
      "metadata": {
        "id": "bMS4pThpMBJ0"
      }
    },
    {
      "cell_type": "markdown",
      "source": [
        "#Lists of Fahrenheit temps\n",
        "week_1 = [45, 55, 49, 60, 52, 55, 58]\n",
        "week_2 = [51, 49, 62, 50, 53, 56, 59]\n",
        "week_3 = [60, 60, 61, 62, 57, 59, 58]\n",
        "week_4 = [59, 63, 62, 61, 65, 66, 62]"
      ],
      "metadata": {
        "id": "plCrZ4Q0MEiG"
      }
    },
    {
      "cell_type": "code",
      "source": [
        "import numpy as np\n",
        "import statistics as stat\n",
        "from statistics import mode"
      ],
      "metadata": {
        "id": "x-Ty_rywMK3C"
      },
      "execution_count": 5,
      "outputs": []
    },
    {
      "cell_type": "code",
      "execution_count": 2,
      "metadata": {
        "id": "OYJQFbr3L3qe"
      },
      "outputs": [],
      "source": [
        "#Lists of Fahrenheit temps\n",
        "week_1 = [45, 55, 49, 60, 52, 55, 58]\n",
        "week_2 = [51, 49, 62, 50, 53, 56, 59]\n",
        "week_3 = [60, 60, 61, 62, 57, 59, 58]\n",
        "week_4 = [59, 63, 62, 61, 65, 66, 62]"
      ]
    },
    {
      "cell_type": "code",
      "source": [
        "#Find the mean, median, and mode for the week_1 data.\n",
        "mean_w1 = round(np.mean(week_1),2)\n",
        "median_w1 = np.median(week_1)\n",
        "mode_w1 = stat.mode(week_1)\n",
        "\n",
        "print(f\"Mean: {mean_w1} | Median: {median_w1} | Mode: {mode_w1}\")"
      ],
      "metadata": {
        "colab": {
          "base_uri": "https://localhost:8080/"
        },
        "id": "ba_KuSmgMS3v",
        "outputId": "0ce98762-0998-4273-9a20-9bd0b1a9006a"
      },
      "execution_count": 10,
      "outputs": [
        {
          "output_type": "stream",
          "name": "stdout",
          "text": [
            "Mean: 53.43 | Median: 55.0 | Mode: 55\n"
          ]
        }
      ]
    },
    {
      "cell_type": "markdown",
      "source": [
        "write a custom function to return all three values in a single function call"
      ],
      "metadata": {
        "id": "ntWfq8XBM-4o"
      }
    },
    {
      "cell_type": "code",
      "source": [
        "def central_tendency(data): #data as an array\n",
        "  mean = round(np.mean(data),2)\n",
        "  median = np.median(data)\n",
        "  mode = stat.mode(data)\n",
        "  print(f\"Mean: {mean} | Median: {median} | Mode: {mode}\")\n",
        "  return mean,median,mode\n",
        "\n",
        "central_tendency(week_1)"
      ],
      "metadata": {
        "colab": {
          "base_uri": "https://localhost:8080/"
        },
        "id": "akCPiwrNM-oK",
        "outputId": "fa4d2596-a821-4bf9-fbe7-c6f619cd9b9e"
      },
      "execution_count": 15,
      "outputs": [
        {
          "output_type": "stream",
          "name": "stdout",
          "text": [
            "Mean: 53.43 | Median: 55.0 | Mode: 55\n"
          ]
        },
        {
          "output_type": "execute_result",
          "data": {
            "text/plain": [
              "(53.43, 55.0, 55)"
            ]
          },
          "metadata": {},
          "execution_count": 15
        }
      ]
    },
    {
      "cell_type": "markdown",
      "source": [
        "Create a modified version of the central_tendency function to include a keyword argument with the default set to verbose = True\n",
        "Add conditional statements within the function so that if\n",
        "#True\n",
        "verbose = True, the function will print:\n",
        "The mean is ___.\n",
        "\n",
        "The median is ___.\n",
        "\n",
        "The mode is ___.\n",
        "#False\n",
        "If verbose = False, the function will just return the mean, median, and mode values without the print statements."
      ],
      "metadata": {
        "id": "Jfy2fpnJOCnW"
      }
    },
    {
      "cell_type": "code",
      "source": [
        "def central_tendency(data,verbose=True):\n",
        "  mean = round(np.mean(data),2)\n",
        "  median = np.median(data)\n",
        "  mode = stat.mode(data)\n",
        "\n",
        "  if verbose:\n",
        "    print(f\"This Mean is {mean}. \\nThis Median is {median}. \\nThis Mode is {mode}.\")\n",
        "\n",
        "  return mean,median,mode\n",
        "\n",
        "print(\"Verbose True:\")\n",
        "central_tendency(week_2,True)\n",
        "print(\"Verbose False:\")\n",
        "central_tendency(week_2,False)"
      ],
      "metadata": {
        "colab": {
          "base_uri": "https://localhost:8080/"
        },
        "id": "k2qHVkpsOWoG",
        "outputId": "2653265d-8426-430a-82cd-e613ce1d24aa"
      },
      "execution_count": 22,
      "outputs": [
        {
          "output_type": "stream",
          "name": "stdout",
          "text": [
            "Verbose True:\n",
            "This Mean is 54.29. \n",
            "This Median is 53.0. \n",
            "This Mode is 51.\n",
            "Verbose False:\n"
          ]
        },
        {
          "output_type": "execute_result",
          "data": {
            "text/plain": [
              "(54.29, 53.0, 51)"
            ]
          },
          "metadata": {},
          "execution_count": 22
        }
      ]
    },
    {
      "cell_type": "code",
      "source": [
        "print(\"--> No verbose\")\n",
        "central_tendency(week_2)\n",
        "print(\"--> True verbose\")\n",
        "central_tendency(week_3,True)\n",
        "print(\"--> False verbose\")\n",
        "central_tendency(week_4,False)"
      ],
      "metadata": {
        "colab": {
          "base_uri": "https://localhost:8080/"
        },
        "id": "cqneTouTOZ7b",
        "outputId": "027f2be3-8178-4b1e-bfc0-3b36699fb31e"
      },
      "execution_count": 24,
      "outputs": [
        {
          "output_type": "stream",
          "name": "stdout",
          "text": [
            "--> No verbose\n",
            "This Mean is 54.29. \n",
            "This Median is 53.0. \n",
            "This Mode is 51.\n",
            "--> True verbose\n",
            "This Mean is 59.57. \n",
            "This Median is 60.0. \n",
            "This Mode is 60.\n",
            "--> False verbose\n"
          ]
        },
        {
          "output_type": "execute_result",
          "data": {
            "text/plain": [
              "(62.57, 62.0, 62)"
            ]
          },
          "metadata": {},
          "execution_count": 24
        }
      ]
    }
  ]
}