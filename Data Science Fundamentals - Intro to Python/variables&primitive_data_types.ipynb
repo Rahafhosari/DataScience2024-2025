{
  "cells": [
    {
      "cell_type": "markdown",
      "metadata": {
        "id": "zy9NuR2fuGeT"
      },
      "source": [
        "# Variables and Primitive Data Types Practice"
      ]
    },
    {
      "cell_type": "markdown",
      "metadata": {
        "id": "uyujPC7qRJlm"
      },
      "source": [
        "# Task 0\n",
        "Print the string 'Hello World!'"
      ]
    },
    {
      "cell_type": "code",
      "execution_count": 1,
      "metadata": {
        "id": "dtKQsi98RbQf"
      },
      "outputs": [
        {
          "name": "stdout",
          "output_type": "stream",
          "text": [
            "Hello World!\n"
          ]
        }
      ],
      "source": [
        "# your code here\n",
        "print(\"Hello World!\")"
      ]
    },
    {
      "cell_type": "markdown",
      "metadata": {
        "id": "iHQFHZyXuM0k"
      },
      "source": [
        "## Task 1a\n",
        "\n",
        "Define a variable **distance** that points to 140.\n",
        "\n",
        "Define a variable **time** that points to 3.\n",
        "\n",
        "Define a variable **speed** that points to the calculation for the speed. Be sure to use the variables names in your calculation. (Speed = distance/time)  \n",
        "\n",
        "Print the speed using print(speed)"
      ]
    },
    {
      "cell_type": "code",
      "execution_count": 4,
      "metadata": {
        "id": "LlQ8wB57t9n0"
      },
      "outputs": [
        {
          "name": "stdout",
          "output_type": "stream",
          "text": [
            "46.666666666666664 m/s\n"
          ]
        }
      ],
      "source": [
        "# your code here\n",
        "distance = 140 #m\n",
        "time = 3 #s\n",
        "speed = distance/time #m/s\n",
        "print(speed,\"m/s\")"
      ]
    },
    {
      "cell_type": "markdown",
      "metadata": {
        "id": "h7juifK_vMXb"
      },
      "source": [
        "#Task 1b\n",
        "Build on your previous code.\n",
        "\n",
        "Instead of just printing speed, print an f statement that says:\n",
        "\n",
        "If it takes __ hours to travel __ miles, the speed is __ miles per hour.  \n",
        "\n",
        "Fill in the blanks with the appropriate variables."
      ]
    },
    {
      "cell_type": "code",
      "execution_count": 7,
      "metadata": {
        "id": "dt_bJZCovkvP"
      },
      "outputs": [
        {
          "name": "stdout",
          "output_type": "stream",
          "text": [
            "If it takes 3 hours to travel 140 miles, the speed is 46.67 miles per hour (mph).\n"
          ]
        }
      ],
      "source": [
        "# your code here\n",
        "print(f\"If it takes {time} hours to travel {distance} miles, the speed is {round(speed,2)} miles per hour (mph).\")"
      ]
    },
    {
      "cell_type": "markdown",
      "metadata": {
        "id": "KOy7i12dwjkE"
      },
      "source": [
        "# Task 1c\n",
        "Check the data type of all three of your variables"
      ]
    },
    {
      "cell_type": "code",
      "execution_count": 8,
      "metadata": {
        "id": "QdUNyzrAxHiD"
      },
      "outputs": [
        {
          "data": {
            "text/plain": [
              "float"
            ]
          },
          "execution_count": 8,
          "metadata": {},
          "output_type": "execute_result"
        }
      ],
      "source": [
        "# Speed\n",
        "type(speed)"
      ]
    },
    {
      "cell_type": "code",
      "execution_count": 9,
      "metadata": {
        "id": "aAOB3_Q6xSYs"
      },
      "outputs": [
        {
          "data": {
            "text/plain": [
              "int"
            ]
          },
          "execution_count": 9,
          "metadata": {},
          "output_type": "execute_result"
        }
      ],
      "source": [
        "# Distance\n",
        "type(distance)"
      ]
    },
    {
      "cell_type": "code",
      "execution_count": 10,
      "metadata": {
        "id": "_U8xxGQbxU19"
      },
      "outputs": [
        {
          "data": {
            "text/plain": [
              "int"
            ]
          },
          "execution_count": 10,
          "metadata": {},
          "output_type": "execute_result"
        }
      ],
      "source": [
        "# Time\n",
        "type(time)"
      ]
    },
    {
      "cell_type": "markdown",
      "metadata": {
        "id": "OFz65OX-xcHa"
      },
      "source": [
        "# Task 1d\n",
        "Change the data type of time from integer to float.\n",
        "\n",
        "Recheck the data type to confirm it is a float."
      ]
    },
    {
      "cell_type": "code",
      "execution_count": 40,
      "metadata": {
        "id": "RxodwaNpxaQm"
      },
      "outputs": [
        {
          "name": "stdout",
          "output_type": "stream",
          "text": [
            "Type: <class 'float'>,Value = 3.0\n"
          ]
        }
      ],
      "source": [
        "# your code here\n",
        "time = float(time)\n",
        "print(f\"Type: { type(time)},Value = {time}\")"
      ]
    },
    {
      "cell_type": "markdown",
      "metadata": {
        "id": "XHbK5vGrycvU"
      },
      "source": [
        "# Task 2a\n",
        "Define a variable **customer** that points to a string with the customer's name, Charlene.\n",
        "\n",
        "Print the customer's name using print(customer)"
      ]
    },
    {
      "cell_type": "code",
      "execution_count": 41,
      "metadata": {
        "id": "NW5j7WZ_y604"
      },
      "outputs": [
        {
          "name": "stdout",
          "output_type": "stream",
          "text": [
            "Charlene\n"
          ]
        }
      ],
      "source": [
        "# your code here\n",
        "customer = \"Charlene\"\n",
        "print(customer)"
      ]
    },
    {
      "cell_type": "markdown",
      "metadata": {
        "id": "rqi5fTVozocO"
      },
      "source": [
        "# Task 2b\n",
        "Check the data type of customer"
      ]
    },
    {
      "cell_type": "code",
      "execution_count": 42,
      "metadata": {
        "id": "rDhc3ttLzjCN"
      },
      "outputs": [
        {
          "data": {
            "text/plain": [
              "str"
            ]
          },
          "execution_count": 42,
          "metadata": {},
          "output_type": "execute_result"
        }
      ],
      "source": [
        "# your code here\n",
        "type(customer)"
      ]
    },
    {
      "cell_type": "markdown",
      "metadata": {
        "id": "XuM8gGRmzyz0"
      },
      "source": [
        "# Task 2c\n",
        "Set up a comparison statement using == to test if the customer is Charlene.\n",
        "\n",
        "Your code should return True."
      ]
    },
    {
      "cell_type": "code",
      "execution_count": 43,
      "metadata": {
        "id": "m-69lURK0NIp"
      },
      "outputs": [
        {
          "data": {
            "text/plain": [
              "True"
            ]
          },
          "execution_count": 43,
          "metadata": {},
          "output_type": "execute_result"
        }
      ],
      "source": [
        "# your code here\n",
        "customer == \"Charlene\""
      ]
    },
    {
      "cell_type": "markdown",
      "metadata": {
        "id": "Ox9QmPr-0NlO"
      },
      "source": [
        "# Task 2d\n",
        "Set up a compararison statement using == to test if the customer is Bob.\n",
        "\n",
        "Your code should return False."
      ]
    },
    {
      "cell_type": "code",
      "execution_count": 44,
      "metadata": {
        "id": "BvWaCs5R0SO-"
      },
      "outputs": [
        {
          "data": {
            "text/plain": [
              "False"
            ]
          },
          "execution_count": 44,
          "metadata": {},
          "output_type": "execute_result"
        }
      ],
      "source": [
        "# your code here\n",
        "customer == 'Bob'"
      ]
    }
  ],
  "metadata": {
    "colab": {
      "provenance": [],
      "toc_visible": true
    },
    "kernelspec": {
      "display_name": "Python 3",
      "name": "python3"
    },
    "language_info": {
      "codemirror_mode": {
        "name": "ipython",
        "version": 3
      },
      "file_extension": ".py",
      "mimetype": "text/x-python",
      "name": "python",
      "nbconvert_exporter": "python",
      "pygments_lexer": "ipython3",
      "version": "3.11.9"
    }
  },
  "nbformat": 4,
  "nbformat_minor": 0
}
